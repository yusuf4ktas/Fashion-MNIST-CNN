{
  "nbformat": 4,
  "nbformat_minor": 0,
  "metadata": {
    "colab": {
      "provenance": []
    },
    "kernelspec": {
      "name": "python3",
      "display_name": "Python 3"
    },
    "language_info": {
      "name": "python"
    }
  },
  "cells": [
    {
      "cell_type": "markdown",
      "source": [
        "## **Import necessary libraries**\n",
        "\n",
        "\n",
        "\n"
      ],
      "metadata": {
        "id": "S_FTrlo-48vH"
      }
    },
    {
      "cell_type": "code",
      "execution_count": null,
      "metadata": {
        "id": "728uAQ96UiGg"
      },
      "outputs": [],
      "source": [
        "# Import necessary libraries\n",
        "import numpy as np\n",
        "import pandas as pd\n",
        "import matplotlib.pyplot as plt\n",
        "import seaborn as sns\n",
        "from sklearn.metrics import accuracy_score, f1_score, recall_score, precision_score, confusion_matrix, roc_curve, roc_auc_score, auc\n",
        "import tensorflow as tf\n",
        "from tensorflow.keras.utils import to_categorical\n",
        "from tensorflow.keras import layers, models\n",
        "\n",
        "import warnings\n",
        "warnings.filterwarnings(\"ignore\")\n"
      ]
    },
    {
      "cell_type": "markdown",
      "source": [
        "##**Loading the Fashion mnist dataset**"
      ],
      "metadata": {
        "id": "zsHQKsbx5Zb1"
      }
    },
    {
      "cell_type": "code",
      "source": [
        "# Load dataset\n",
        "fashion_mnist = tf.keras.datasets.fashion_mnist\n",
        "(X_train, y_train), (X_test, y_test) = fashion_mnist.load_data()"
      ],
      "metadata": {
        "id": "fYSHks3dUqWm"
      },
      "execution_count": null,
      "outputs": []
    },
    {
      "cell_type": "markdown",
      "source": [
        "##**Class declaration for nomenclature**"
      ],
      "metadata": {
        "id": "QtiAT2xJ55KZ"
      }
    },
    {
      "cell_type": "code",
      "source": [
        "class_names = ['T-shirt/top', 'Trouser', 'Pullover', 'Dress', 'Coat',\n",
        "               'Sandal', 'Shirt', 'Sneaker', 'Bag', 'Ankle boot']"
      ],
      "metadata": {
        "id": "Y7DCEy-Ep3ui"
      },
      "execution_count": null,
      "outputs": []
    },
    {
      "cell_type": "markdown",
      "source": [
        "##**Print dimensions of the data and images**\n"
      ],
      "metadata": {
        "id": "YLwtB0Au6XZ3"
      }
    },
    {
      "cell_type": "code",
      "source": [
        "X_train.shape"
      ],
      "metadata": {
        "colab": {
          "base_uri": "https://localhost:8080/"
        },
        "id": "BylAFGkDUrYC",
        "outputId": "8a6578c3-2934-4027-9cfd-ee2eb9464e6f"
      },
      "execution_count": null,
      "outputs": [
        {
          "output_type": "execute_result",
          "data": {
            "text/plain": [
              "(60000, 28, 28)"
            ]
          },
          "metadata": {},
          "execution_count": 98
        }
      ]
    },
    {
      "cell_type": "code",
      "source": [
        "y_train.shape"
      ],
      "metadata": {
        "colab": {
          "base_uri": "https://localhost:8080/"
        },
        "id": "LP2ZEN4UUrdG",
        "outputId": "73a9eb50-4fa9-4cae-e6ee-8cdab1f61afa"
      },
      "execution_count": null,
      "outputs": [
        {
          "output_type": "execute_result",
          "data": {
            "text/plain": [
              "(60000,)"
            ]
          },
          "metadata": {},
          "execution_count": 99
        }
      ]
    },
    {
      "cell_type": "code",
      "source": [
        "X_test.shape"
      ],
      "metadata": {
        "colab": {
          "base_uri": "https://localhost:8080/"
        },
        "id": "S2cNUOX4Urhv",
        "outputId": "02d04c3c-e6e4-4d9f-9773-ea128ba18ba1"
      },
      "execution_count": null,
      "outputs": [
        {
          "output_type": "execute_result",
          "data": {
            "text/plain": [
              "(10000, 28, 28)"
            ]
          },
          "metadata": {},
          "execution_count": 100
        }
      ]
    },
    {
      "cell_type": "code",
      "source": [
        "y_test.shape"
      ],
      "metadata": {
        "colab": {
          "base_uri": "https://localhost:8080/"
        },
        "id": "efRPzhESUrqv",
        "outputId": "af321a10-8933-4933-d822-a6ec5f166ba8"
      },
      "execution_count": null,
      "outputs": [
        {
          "output_type": "execute_result",
          "data": {
            "text/plain": [
              "(10000,)"
            ]
          },
          "metadata": {},
          "execution_count": 101
        }
      ]
    },
    {
      "cell_type": "code",
      "source": [
        "# Dimensions of the images\n",
        "X_train[0].shape"
      ],
      "metadata": {
        "colab": {
          "base_uri": "https://localhost:8080/"
        },
        "id": "_FBE-aMFUrtz",
        "outputId": "50d32ccc-e976-4b6e-cd84-4791e87cfc72"
      },
      "execution_count": null,
      "outputs": [
        {
          "output_type": "execute_result",
          "data": {
            "text/plain": [
              "(28, 28)"
            ]
          },
          "metadata": {},
          "execution_count": 102
        }
      ]
    },
    {
      "cell_type": "markdown",
      "source": [
        "##**Visualizing 15 images from the dataset**"
      ],
      "metadata": {
        "id": "RIeOyn9g6nZP"
      }
    },
    {
      "cell_type": "code",
      "source": [
        "plt.figure(figsize=(10,10))\n",
        "\n",
        "for i in range(15):\n",
        "    plt.subplot(5,3,i+1)\n",
        "    plt.xticks([])\n",
        "    plt.yticks([])\n",
        "    plt.imshow(X_train[i], cmap=plt.cm.binary)\n",
        "    plt.xlabel(class_names[y_train[i]])\n",
        "plt.show()"
      ],
      "metadata": {
        "colab": {
          "base_uri": "https://localhost:8080/",
          "height": 826
        },
        "id": "xf4WmUrrUrxD",
        "outputId": "433c7270-720e-4677-b334-8e7289cf2791"
      },
      "execution_count": null,
      "outputs": [
        {
          "output_type": "display_data",
          "data": {
            "text/plain": [
              "<Figure size 1000x1000 with 15 Axes>"
            ],
            "image/png": "[encoded data removed]"
          },
          "metadata": {}
        }
      ]
    },
    {
      "cell_type": "code",
      "source": [
        "# Reshape data to fit the model\n",
        "X_train = X_train.reshape(60000, 28, 28, 1).astype('float32')\n",
        "X_test = X_test.reshape(10000, 28, 28, 1).astype('float32')\n",
        "\n",
        "''' Or can be written as below;\n",
        "X_train = X_train.reshape(X_train.shape[0], 28, 28, 1)\n",
        "X_test = X_test.reshape(X_test.shape[0], 28, 28, 1)\n",
        "'''"
      ],
      "metadata": {
        "id": "puPBia7HUr2n"
      },
      "execution_count": null,
      "outputs": []
    },
    {
      "cell_type": "code",
      "source": [
        "# Normalize the data\n",
        "'''divison to 250 because each pixel ranges from 0 to 250 and we normalize them\n",
        "by dividing to 250 to get values between 0 and 1'''\n",
        "X_train = X_train / 255.0\n",
        "X_test = X_test / 255.0"
      ],
      "metadata": {
        "id": "o1NUFExZUrzx"
      },
      "execution_count": null,
      "outputs": []
    },
    {
      "cell_type": "code",
      "source": [
        "# Split data into training and validation(test) sets\n",
        "from sklearn.model_selection import train_test_split\n",
        "X_train, X_val, y_train, y_val = train_test_split(X_train, y_train, test_size=0.33, random_state=42)\n"
      ],
      "metadata": {
        "id": "F3qdIx4sVR9g"
      },
      "execution_count": null,
      "outputs": []
    },
    {
      "cell_type": "code",
      "source": [
        "# First convolutional layer.\n",
        "# Number of neurons = 32\n",
        "conv1 = layers.Conv2D(32, (3,3), activation='relu', input_shape=(28,28,1) )"
      ],
      "metadata": {
        "id": "hpS_BTVrqfPA"
      },
      "execution_count": null,
      "outputs": []
    },
    {
      "cell_type": "code",
      "source": [
        "# Second convolutional layer.\n",
        "# Number of neurons = 64\n",
        "conv2 = layers.Conv2D(64, (3,3), activation='relu')"
      ],
      "metadata": {
        "id": "lzH37r_fqfXr"
      },
      "execution_count": null,
      "outputs": []
    },
    {
      "cell_type": "code",
      "source": [
        "# Third convolutional layer.\n",
        "# Number of neurons = 128\n",
        "conv3 = layers.Conv2D(128, (3,3), activation='relu')"
      ],
      "metadata": {
        "id": "XTGnOyngqfcW"
      },
      "execution_count": null,
      "outputs": []
    },
    {
      "cell_type": "code",
      "source": [
        "#Creating first Max. Pooling Layer\n",
        "max_pool_1 = layers.MaxPooling2D((2,2))\n",
        "\n",
        "#Creating second Max. Pooling Layer\n",
        "max_pool_2 = layers.MaxPooling2D((2,2))\n",
        "\n",
        "#Creating third Max. Pooling Layer\n",
        "max_pool_3 = layers.MaxPooling2D((2,2))"
      ],
      "metadata": {
        "id": "z1ReupMFqfhD"
      },
      "execution_count": null,
      "outputs": []
    },
    {
      "cell_type": "code",
      "source": [
        "'''Fully Connected (FC) Layer hidden layer expects input in 1-D format (1-D array), hence, we need to convert\n",
        "2-D output (2-D array) of last convolutional layer (conv3) to 1-D array we need to flatten the 2-D array\n",
        "to 1-D array'''\n",
        "\n",
        "flat_layer = layers.Flatten()"
      ],
      "metadata": {
        "id": "2L9hsRPnrDdU"
      },
      "execution_count": null,
      "outputs": []
    },
    {
      "cell_type": "code",
      "source": [
        "# Fully Connected (FC) Layer - Hidden(Dense) Layer\n",
        "\n",
        "fc = layers.Dense(128, activation='relu')"
      ],
      "metadata": {
        "id": "4CByZdBcrDrA"
      },
      "execution_count": null,
      "outputs": []
    },
    {
      "cell_type": "code",
      "source": [
        "# Output Layer - with 10 neurons (because we have 10 output classes)\n",
        "\n",
        "output = layers.Dense(10, 'softmax')"
      ],
      "metadata": {
        "id": "LeJNywfnrDv7"
      },
      "execution_count": null,
      "outputs": []
    },
    {
      "cell_type": "code",
      "source": [
        "# Creating first dropout layer (for the first Conv. layer 'conv1')\n",
        "drop_1 = tf.keras.layers.Dropout(0.5)\n",
        "# Creating second dropout layer (for the second Conv. layer 'conv2')\n",
        "drop_2 = tf.keras.layers.Dropout(0.5)\n",
        "# Creating third dropout layer (for the third Conv. layer 'conv3')\n",
        "drop_3 = tf.keras.layers.Dropout(0.5)"
      ],
      "metadata": {
        "id": "CBx80vk7sDhw"
      },
      "execution_count": null,
      "outputs": []
    },
    {
      "cell_type": "code",
      "source": [
        "#Model Creation\n",
        "model = models.Sequential()\n",
        "\n",
        "model.add(conv1)\n",
        "model.add(conv2)\n",
        "model.add(max_pool_2)\n",
        "model.add(drop_2)\n",
        "model.add(conv3)\n",
        "model.add(max_pool_3)\n",
        "model.add(drop_3)\n",
        "model.add(flat_layer)\n",
        "model.add(fc)\n",
        "model.add(output)"
      ],
      "metadata": {
        "id": "0sYqhJGLrMnA"
      },
      "execution_count": null,
      "outputs": []
    },
    {
      "cell_type": "code",
      "source": [
        "model.summary()"
      ],
      "metadata": {
        "colab": {
          "base_uri": "https://localhost:8080/"
        },
        "id": "iO0gwLsik4oO",
        "outputId": "d18ec4c5-1436-41fd-a010-81b87d576e9a"
      },
      "execution_count": null,
      "outputs": [
        {
          "output_type": "stream",
          "name": "stdout",
          "text": [
            "Model: \"sequential_5\"\n",
            "_________________________________________________________________\n",
            " Layer (type)                Output Shape              Param #   \n",
            "=================================================================\n",
            " conv2d_13 (Conv2D)          (None, 26, 26, 32)        320       \n",
            "                                                                 \n",
            " conv2d_14 (Conv2D)          (None, 24, 24, 64)        18496     \n",
            "                                                                 \n",
            " max_pooling2d_14 (MaxPooli  (None, 12, 12, 64)        0         \n",
            " ng2D)                                                           \n",
            "                                                                 \n",
            " dropout_11 (Dropout)        (None, 12, 12, 64)        0         \n",
            "                                                                 \n",
            " conv2d_16 (Conv2D)          (None, 10, 10, 128)       73856     \n",
            "                                                                 \n",
            " max_pooling2d_15 (MaxPooli  (None, 5, 5, 128)         0         \n",
            " ng2D)                                                           \n",
            "                                                                 \n",
            " dropout_12 (Dropout)        (None, 5, 5, 128)         0         \n",
            "                                                                 \n",
            " flatten_5 (Flatten)         (None, 3200)              0         \n",
            "                                                                 \n",
            " dense_10 (Dense)            (None, 128)               409728    \n",
            "                                                                 \n",
            " dense_11 (Dense)            (None, 10)                1290      \n",
            "                                                                 \n",
            "=================================================================\n",
            "Total params: 503690 (1.92 MB)\n",
            "Trainable params: 503690 (1.92 MB)\n",
            "Non-trainable params: 0 (0.00 Byte)\n",
            "_________________________________________________________________\n"
          ]
        }
      ]
    },
    {
      "cell_type": "code",
      "source": [
        "# Compile the model\n",
        "model.compile(optimizer='adam',\n",
        "              loss='sparse_categorical_crossentropy',\n",
        "              metrics=['accuracy'])"
      ],
      "metadata": {
        "id": "CZ1aJZCuVaDJ"
      },
      "execution_count": null,
      "outputs": []
    },
    {
      "cell_type": "code",
      "source": [
        "# Train the model\n",
        "history = model.fit(\n",
        "    X_train, y_train,\n",
        "    epochs=20,\n",
        "    batch_size=512,\n",
        "    shuffle=True,\n",
        "    validation_split=0.1)"
      ],
      "metadata": {
        "colab": {
          "base_uri": "https://localhost:8080/"
        },
        "id": "XAdeZ-bbVdkb",
        "outputId": "a6a6e33d-5aa9-4e3d-80a8-349b9c56d8ea"
      },
      "execution_count": null,
      "outputs": [
        {
          "output_type": "stream",
          "name": "stdout",
          "text": [
            "Epoch 1/20\n",
            "71/71 [==============================] - 139s 2s/step - loss: 0.9333 - accuracy: 0.6580 - val_loss: 0.5770 - val_accuracy: 0.7886\n",
            "Epoch 2/20\n",
            "71/71 [==============================] - 135s 2s/step - loss: 0.5218 - accuracy: 0.8062 - val_loss: 0.4598 - val_accuracy: 0.8428\n",
            "Epoch 3/20\n",
            "71/71 [==============================] - 134s 2s/step - loss: 0.4498 - accuracy: 0.8362 - val_loss: 0.3997 - val_accuracy: 0.8595\n",
            "Epoch 4/20\n",
            "71/71 [==============================] - 134s 2s/step - loss: 0.4053 - accuracy: 0.8532 - val_loss: 0.3638 - val_accuracy: 0.8667\n",
            "Epoch 5/20\n",
            "71/71 [==============================] - 132s 2s/step - loss: 0.3733 - accuracy: 0.8633 - val_loss: 0.3434 - val_accuracy: 0.8794\n",
            "Epoch 6/20\n",
            "71/71 [==============================] - 134s 2s/step - loss: 0.3508 - accuracy: 0.8733 - val_loss: 0.3280 - val_accuracy: 0.8898\n",
            "Epoch 7/20\n",
            "71/71 [==============================] - 135s 2s/step - loss: 0.3304 - accuracy: 0.8805 - val_loss: 0.3179 - val_accuracy: 0.8856\n",
            "Epoch 8/20\n",
            "71/71 [==============================] - 133s 2s/step - loss: 0.3158 - accuracy: 0.8876 - val_loss: 0.3012 - val_accuracy: 0.8908\n",
            "Epoch 9/20\n",
            "71/71 [==============================] - 133s 2s/step - loss: 0.2988 - accuracy: 0.8934 - val_loss: 0.2827 - val_accuracy: 0.8973\n",
            "Epoch 10/20\n",
            "71/71 [==============================] - 133s 2s/step - loss: 0.2877 - accuracy: 0.8948 - val_loss: 0.2780 - val_accuracy: 0.8938\n",
            "Epoch 11/20\n",
            "71/71 [==============================] - 133s 2s/step - loss: 0.2750 - accuracy: 0.8997 - val_loss: 0.2654 - val_accuracy: 0.9052\n",
            "Epoch 12/20\n",
            "71/71 [==============================] - 134s 2s/step - loss: 0.2701 - accuracy: 0.8998 - val_loss: 0.2639 - val_accuracy: 0.9015\n",
            "Epoch 13/20\n",
            "71/71 [==============================] - 133s 2s/step - loss: 0.2534 - accuracy: 0.9068 - val_loss: 0.2462 - val_accuracy: 0.9122\n",
            "Epoch 14/20\n",
            "71/71 [==============================] - 138s 2s/step - loss: 0.2473 - accuracy: 0.9090 - val_loss: 0.2569 - val_accuracy: 0.9060\n",
            "Epoch 15/20\n",
            "71/71 [==============================] - 137s 2s/step - loss: 0.2464 - accuracy: 0.9101 - val_loss: 0.2387 - val_accuracy: 0.9114\n",
            "Epoch 16/20\n",
            "71/71 [==============================] - 135s 2s/step - loss: 0.2371 - accuracy: 0.9123 - val_loss: 0.2402 - val_accuracy: 0.9090\n",
            "Epoch 17/20\n",
            "71/71 [==============================] - 136s 2s/step - loss: 0.2298 - accuracy: 0.9157 - val_loss: 0.2365 - val_accuracy: 0.9127\n",
            "Epoch 18/20\n",
            "71/71 [==============================] - 134s 2s/step - loss: 0.2241 - accuracy: 0.9181 - val_loss: 0.2393 - val_accuracy: 0.9124\n",
            "Epoch 19/20\n",
            "71/71 [==============================] - 131s 2s/step - loss: 0.2202 - accuracy: 0.9174 - val_loss: 0.2249 - val_accuracy: 0.9162\n",
            "Epoch 20/20\n",
            "71/71 [==============================] - 135s 2s/step - loss: 0.2128 - accuracy: 0.9210 - val_loss: 0.2253 - val_accuracy: 0.9169\n"
          ]
        }
      ]
    },
    {
      "cell_type": "code",
      "source": [
        "# Plot accuracy vs epoch\n",
        "plt.plot(history.history['accuracy'])\n",
        "plt.plot(history.history['val_accuracy'])\n",
        "plt.title('Model Accuracy')\n",
        "plt.ylabel('Accuracy')\n",
        "plt.xlabel('Epoch')\n",
        "plt.legend(['Train', 'Test'], loc='upper left')\n",
        "plt.show()"
      ],
      "metadata": {
        "colab": {
          "base_uri": "https://localhost:8080/",
          "height": 472
        },
        "id": "lPlYpHdAVfoB",
        "outputId": "6b9a5ecb-298c-4942-e925-df639b735800"
      },
      "execution_count": null,
      "outputs": [
        {
          "output_type": "display_data",
          "data": {
            "text/plain": [
              "<Figure size 640x480 with 1 Axes>"
            ],
            "image/png": "[encoded data removed]"
          },
          "metadata": {}
        }
      ]
    },
    {
      "cell_type": "code",
      "source": [
        "# Plot loss vs epoch\n",
        "plt.plot(history.history['loss'])\n",
        "plt.plot(history.history['val_loss'])\n",
        "plt.title('Model Loss')\n",
        "plt.ylabel('Loss')\n",
        "plt.xlabel('Epoch')\n",
        "plt.legend(['Train', 'Test'], loc='upper left')\n",
        "plt.show()"
      ],
      "metadata": {
        "colab": {
          "base_uri": "https://localhost:8080/",
          "height": 472
        },
        "id": "3Ix2R166VhxR",
        "outputId": "7433f303-8a37-4aa3-edb3-9bdb8a5ce5d7"
      },
      "execution_count": null,
      "outputs": [
        {
          "output_type": "display_data",
          "data": {
            "text/plain": [
              "<Figure size 640x480 with 1 Axes>"
            ],
            "image/png": "[encoded data removed]"
          },
          "metadata": {}
        }
      ]
    },
    {
      "cell_type": "code",
      "source": [
        "# Evaluating the model\n",
        "y_pred = model.predict(X_test)\n",
        "y_pred_classes = np.argmax(y_pred, axis=1)\n",
        "y_true = y_test"
      ],
      "metadata": {
        "colab": {
          "base_uri": "https://localhost:8080/"
        },
        "id": "xdUOifZ8VkCV",
        "outputId": "9fe23439-930c-4414-e6c1-708aaf57372e"
      },
      "execution_count": null,
      "outputs": [
        {
          "output_type": "stream",
          "name": "stdout",
          "text": [
            "313/313 [==============================] - 13s 42ms/step\n"
          ]
        }
      ]
    },
    {
      "cell_type": "code",
      "source": [
        "# Calculating the metrics\n",
        "accuracy = accuracy_score(y_true, y_pred_classes)\n",
        "recall = recall_score(y_true, y_pred_classes, average='macro')\n",
        "precision = precision_score(y_true, y_pred_classes, average='macro')\n",
        "f1 = f1_score(y_true, y_pred_classes, average='macro')\n",
        "roc_auc = roc_auc_score(y_test, y_pred, multi_class='ovr')\n",
        "\n",
        "print(f\"Accuracy: {accuracy}\")\n",
        "print(f\"Recall: {recall}\")\n",
        "print(f\"Precision: {precision}\")\n",
        "print(f\"F1-score: {f1}\")\n",
        "print(f\"ROC AUC: {roc_auc}\")"
      ],
      "metadata": {
        "colab": {
          "base_uri": "https://localhost:8080/"
        },
        "id": "7ao0it-kVmUT",
        "outputId": "f04f67fc-1f57-4cae-81bc-cb1120f58855"
      },
      "execution_count": null,
      "outputs": [
        {
          "output_type": "stream",
          "name": "stdout",
          "text": [
            "Accuracy: 0.9139\n",
            "Recall: 0.9138999999999999\n",
            "Precision: 0.9153257500898032\n",
            "F1-score: 0.9143248596952205\n",
            "ROC AUC: 0.9948331611111112\n"
          ]
        }
      ]
    }
  ]
}